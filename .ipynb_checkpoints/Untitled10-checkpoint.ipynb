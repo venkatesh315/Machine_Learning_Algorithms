{
 "cells": [
  {
   "cell_type": "code",
   "execution_count": null,
   "metadata": {},
   "outputs": [],
   "source": [
    "from sklearn import svm\n",
    "from sklearn.ensemble import RandomForestClassifier\n",
    "from sklearn.linear_model import LogisticRegression\n",
    "from sklearn.naive_bayes import GaussianNB\n",
    "from sklearn.naive_bayes import MultinomialNB\n",
    "from sklearn.tree import DecisionTreeClassifier"
   ]
  },
  {
   "cell_type": "code",
   "execution_count": null,
   "metadata": {},
   "outputs": [],
   "source": [
    "import pandas as pd   \n",
    "import numpy as np"
   ]
  },
  {
   "cell_type": "code",
   "execution_count": null,
   "metadata": {},
   "outputs": [],
   "source": [
    "model_guide={\n",
    "    'SVC':{\n",
    "    'model':svm.SVC(gamma='auto'),\n",
    "    'param':{\n",
    "        'C':[1,10,20],\n",
    "        'kernel':['rbf','linear']\n",
    "    }\n",
    "    },\n",
    "    'RandomForest':{\n",
    "    'model':RandomForestClassifier(),\n",
    "    'param':{\n",
    "        'n_estimators':[1,5,10]\n",
    "    }\n",
    "    },\n",
    "    'Logistics Rgression':{\n",
    "    'model':LogisticRegression(solver='liblinear',multi_class='auto'),\n",
    "    'param':{\n",
    "        'C':[1,5,10]\n",
    "        \n",
    "    }\n",
    "    },\n",
    "    'GaussianNB':{\n",
    "     'model':GaussianNB(),\n",
    "    'param':{}\n",
    "    },\n",
    "    'MultinomialNB':{\n",
    "    'model':MultinomialNB(),\n",
    "    'param':{}\n",
    "    },\n",
    "    'DecisionTree':{\n",
    "    'model':DecisionTreeClassifier(),\n",
    "    'param':{\n",
    "        'criterion':['gini','entropy']\n",
    "    }\n",
    "    }\n",
    "    \n",
    "}"
   ]
  },
  {
   "cell_type": "code",
   "execution_count": null,
   "metadata": {},
   "outputs": [],
   "source": [
    "from sklearn.datasets import load_digits\n",
    "obj=load_digits()\n",
    "dir(obj)"
   ]
  },
  {
   "cell_type": "code",
   "execution_count": null,
   "metadata": {},
   "outputs": [],
   "source": [
    "from sklearn.model_selection import GridSearchCV"
   ]
  },
  {
   "cell_type": "code",
   "execution_count": null,
   "metadata": {},
   "outputs": [],
   "source": [
    "avg_final_score=[]\n",
    "for model, para in model_guide.items():\n",
    "    cf=GridSearchCV(para['model'],para['param'],cv=5,return_train_score=False)\n",
    "    cf.fit(obj.data,obj.target)\n",
    "    avg_final_score.append({\n",
    "        'model':model,\n",
    "        'best_score':cf.best_score_,\n",
    "        'best_params':cf.best_params_\n",
    "    })"
   ]
  },
  {
   "cell_type": "code",
   "execution_count": null,
   "metadata": {},
   "outputs": [],
   "source": []
  },
  {
   "cell_type": "code",
   "execution_count": null,
   "metadata": {},
   "outputs": [],
   "source": [
    "print('hi')"
   ]
  },
  {
   "cell_type": "code",
   "execution_count": null,
   "metadata": {},
   "outputs": [],
   "source": []
  }
 ],
 "metadata": {
  "kernelspec": {
   "display_name": "Python 3",
   "language": "python",
   "name": "python3"
  },
  "language_info": {
   "codemirror_mode": {
    "name": "ipython",
    "version": 3
   },
   "file_extension": ".py",
   "mimetype": "text/x-python",
   "name": "python",
   "nbconvert_exporter": "python",
   "pygments_lexer": "ipython3",
   "version": "3.6.5"
  }
 },
 "nbformat": 4,
 "nbformat_minor": 4
}
