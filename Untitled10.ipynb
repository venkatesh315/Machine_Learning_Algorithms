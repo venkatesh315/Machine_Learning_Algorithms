{
 "cells": [
  {
   "cell_type": "code",
   "execution_count": 8,
   "metadata": {},
   "outputs": [],
   "source": [
    "from sklearn import svm\n",
    "from sklearn.ensemble import RandomForestClassifier\n",
    "from sklearn.linear_model import LogisticRegression\n",
    "from sklearn.naive_bayes import GaussianNB\n",
    "from sklearn.naive_bayes import MultinomialNB\n",
    "from sklearn.tree import DecisionTreeClassifier"
   ]
  },
  {
   "cell_type": "code",
   "execution_count": 9,
   "metadata": {},
   "outputs": [],
   "source": [
    "import pandas as pd   \n",
    "import numpy as np"
   ]
  },
  {
   "cell_type": "code",
   "execution_count": 10,
   "metadata": {},
   "outputs": [],
   "source": [
    "model_guide={\n",
    "    'SVC':{\n",
    "    'model':svm.SVC(gamma='auto'),\n",
    "    'param':{\n",
    "        'C':[1,10,20],\n",
    "        'kernel':['rbf','linear']\n",
    "    }\n",
    "    },\n",
    "    'RandomForest':{\n",
    "    'model':RandomForestClassifier(),\n",
    "    'param':{\n",
    "        'n_estimators':[1,5,10]\n",
    "    }\n",
    "    },\n",
    "    'Logistics Rgression':{\n",
    "    'model':LogisticRegression(solver='liblinear',multi_class='auto'),\n",
    "    'param':{\n",
    "        'C':[1,5,10]\n",
    "        \n",
    "    }\n",
    "    },\n",
    "    'GaussianNB':{\n",
    "     'model':GaussianNB(),\n",
    "    'param':{}\n",
    "    },\n",
    "    'MultinomialNB':{\n",
    "    'model':MultinomialNB(),\n",
    "    'param':{}\n",
    "    },\n",
    "    'DecisionTree':{\n",
    "    'model':DecisionTreeClassifier(),\n",
    "    'param':{\n",
    "        'criterion':['gini','entropy']\n",
    "    }\n",
    "    }\n",
    "    \n",
    "}"
   ]
  },
  {
   "cell_type": "code",
   "execution_count": 11,
   "metadata": {},
   "outputs": [
    {
     "data": {
      "text/plain": [
       "['DESCR', 'data', 'feature_names', 'frame', 'images', 'target', 'target_names']"
      ]
     },
     "execution_count": 11,
     "metadata": {},
     "output_type": "execute_result"
    }
   ],
   "source": [
    "from sklearn.datasets import load_digits\n",
    "obj=load_digits()\n",
    "dir(obj)"
   ]
  },
  {
   "cell_type": "code",
   "execution_count": 12,
   "metadata": {},
   "outputs": [],
   "source": [
    "from sklearn.model_selection import GridSearchCV"
   ]
  },
  {
   "cell_type": "code",
   "execution_count": 13,
   "metadata": {},
   "outputs": [],
   "source": [
    "avg_final_score=[]\n",
    "for model, para in model_guide.items():\n",
    "    cf=GridSearchCV(para['model'],para['param'],cv=5,return_train_score=False)\n",
    "    cf.fit(obj.data,obj.target)\n",
    "    avg_final_score.append({\n",
    "        'model':model,\n",
    "        'best_score':cf.best_score_,\n",
    "        'best_params':cf.best_params_\n",
    "    })"
   ]
  },
  {
   "cell_type": "code",
   "execution_count": 15,
   "metadata": {},
   "outputs": [
    {
     "data": {
      "text/plain": [
       "[{'model': 'SVC',\n",
       "  'best_score': 0.9476973073351903,\n",
       "  'best_params': {'C': 1, 'kernel': 'linear'}},\n",
       " {'model': 'RandomForest',\n",
       "  'best_score': 0.9026477870628288,\n",
       "  'best_params': {'n_estimators': 10}},\n",
       " {'model': 'Logistics Rgression',\n",
       "  'best_score': 0.9221138966264315,\n",
       "  'best_params': {'C': 1}},\n",
       " {'model': 'GaussianNB', 'best_score': 0.8069281956050759, 'best_params': {}},\n",
       " {'model': 'MultinomialNB',\n",
       "  'best_score': 0.8703497369235531,\n",
       "  'best_params': {}},\n",
       " {'model': 'DecisionTree',\n",
       "  'best_score': 0.8113710925410089,\n",
       "  'best_params': {'criterion': 'entropy'}}]"
      ]
     },
     "execution_count": 15,
     "metadata": {},
     "output_type": "execute_result"
    }
   ],
   "source": [
    "avg_final_score"
   ]
  },
  {
   "cell_type": "code",
   "execution_count": 17,
   "metadata": {},
   "outputs": [],
   "source": [
    "df = pd.DataFrame(avg_final_score,columns=['model','best_score','best_params'])"
   ]
  },
  {
   "cell_type": "code",
   "execution_count": 18,
   "metadata": {},
   "outputs": [
    {
     "data": {
      "text/html": [
       "<div>\n",
       "<style scoped>\n",
       "    .dataframe tbody tr th:only-of-type {\n",
       "        vertical-align: middle;\n",
       "    }\n",
       "\n",
       "    .dataframe tbody tr th {\n",
       "        vertical-align: top;\n",
       "    }\n",
       "\n",
       "    .dataframe thead th {\n",
       "        text-align: right;\n",
       "    }\n",
       "</style>\n",
       "<table border=\"1\" class=\"dataframe\">\n",
       "  <thead>\n",
       "    <tr style=\"text-align: right;\">\n",
       "      <th></th>\n",
       "      <th>model</th>\n",
       "      <th>best_score</th>\n",
       "      <th>best_params</th>\n",
       "    </tr>\n",
       "  </thead>\n",
       "  <tbody>\n",
       "    <tr>\n",
       "      <th>0</th>\n",
       "      <td>SVC</td>\n",
       "      <td>0.947697</td>\n",
       "      <td>{'C': 1, 'kernel': 'linear'}</td>\n",
       "    </tr>\n",
       "    <tr>\n",
       "      <th>1</th>\n",
       "      <td>RandomForest</td>\n",
       "      <td>0.902648</td>\n",
       "      <td>{'n_estimators': 10}</td>\n",
       "    </tr>\n",
       "    <tr>\n",
       "      <th>2</th>\n",
       "      <td>Logistics Rgression</td>\n",
       "      <td>0.922114</td>\n",
       "      <td>{'C': 1}</td>\n",
       "    </tr>\n",
       "    <tr>\n",
       "      <th>3</th>\n",
       "      <td>GaussianNB</td>\n",
       "      <td>0.806928</td>\n",
       "      <td>{}</td>\n",
       "    </tr>\n",
       "    <tr>\n",
       "      <th>4</th>\n",
       "      <td>MultinomialNB</td>\n",
       "      <td>0.870350</td>\n",
       "      <td>{}</td>\n",
       "    </tr>\n",
       "    <tr>\n",
       "      <th>5</th>\n",
       "      <td>DecisionTree</td>\n",
       "      <td>0.811371</td>\n",
       "      <td>{'criterion': 'entropy'}</td>\n",
       "    </tr>\n",
       "  </tbody>\n",
       "</table>\n",
       "</div>"
      ],
      "text/plain": [
       "                 model  best_score                   best_params\n",
       "0                  SVC    0.947697  {'C': 1, 'kernel': 'linear'}\n",
       "1         RandomForest    0.902648          {'n_estimators': 10}\n",
       "2  Logistics Rgression    0.922114                      {'C': 1}\n",
       "3           GaussianNB    0.806928                            {}\n",
       "4        MultinomialNB    0.870350                            {}\n",
       "5         DecisionTree    0.811371      {'criterion': 'entropy'}"
      ]
     },
     "execution_count": 18,
     "metadata": {},
     "output_type": "execute_result"
    }
   ],
   "source": [
    "df"
   ]
  },
  {
   "cell_type": "code",
   "execution_count": null,
   "metadata": {},
   "outputs": [],
   "source": []
  }
 ],
 "metadata": {
  "kernelspec": {
   "display_name": "Python 3",
   "language": "python",
   "name": "python3"
  },
  "language_info": {
   "codemirror_mode": {
    "name": "ipython",
    "version": 3
   },
   "file_extension": ".py",
   "mimetype": "text/x-python",
   "name": "python",
   "nbconvert_exporter": "python",
   "pygments_lexer": "ipython3",
   "version": "3.6.5"
  }
 },
 "nbformat": 4,
 "nbformat_minor": 4
}
